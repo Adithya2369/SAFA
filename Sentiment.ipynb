{
 "cells": [
  {
   "cell_type": "code",
   "id": "initial_id",
   "metadata": {
    "collapsed": true,
    "ExecuteTime": {
     "end_time": "2025-01-19T10:41:03.717416Z",
     "start_time": "2025-01-19T10:41:03.523724Z"
    }
   },
   "source": [
    "import pandas as pd\n",
    "from transformers import pipeline"
   ],
   "execution_count": 1,
   "outputs": []
  },
  {
   "metadata": {
    "jupyter": {
     "is_executing": true
    }
   },
   "cell_type": "code",
   "source": [
    "# Load RoBERTa-based sentiment analysis pipeline\n",
    "sentiment_pipeline = pipeline(\"sentiment-analysis\", model=\"cardiffnlp/twitter-roberta-base-sentiment\")"
   ],
   "id": "5f76ede5223a9df5",
   "execution_count": null,
   "outputs": []
  },
  {
   "metadata": {},
   "cell_type": "code",
   "execution_count": null,
   "source": [
    "# Load Excel file\n",
    "file_path = 'customer_reviews_feedback.xlsx'  # Replace with your Excel file path\n",
    "df = pd.read_excel(file_path)\n",
    "\n",
    "# Check if the 'text' column exists\n",
    "if 'text' not in df.columns:\n",
    "    raise ValueError(\"The column 'text' is not found in the provided Excel file.\")"
   ],
   "id": "2521088e179b4d1f",
   "outputs": []
  },
  {
   "metadata": {},
   "cell_type": "code",
   "execution_count": null,
   "source": [
    "# Dictionary to store sentiment scores\n",
    "sentiment_dict = {}\n",
    "\n",
    "# Maximum token length for the RoBERTa model\n",
    "max_length = 512\n",
    "\n",
    "# Analyze sentiment and store results\n",
    "sentiment_results = []\n",
    "\n",
    "for idx, text in enumerate(df['text']):\n",
    "    if isinstance(text, str) and text.strip():\n",
    "        # Truncate text if it's too long for the model\n",
    "        truncated_text = text[:max_length]\n",
    "        result = sentiment_pipeline(truncated_text)[0]\n",
    "        label = result['label'].lower()\n",
    "        if label == 'negative':\n",
    "            sentiment_results.append('Negative')\n",
    "        elif label == 'positive':\n",
    "            sentiment_results.append('Positive')\n",
    "        else:\n",
    "            sentiment_results.append('Neutral')\n",
    "        sentiment_dict[idx] = {\n",
    "            'positive': result['score'] if label == 'positive' else 0.0,\n",
    "            'negative': result['score'] if label == 'negative' else 0.0,\n",
    "            'neutral': result['score'] if label == 'neutral' else 0.0,\n",
    "            'compound': result['score']\n",
    "        }\n",
    "    else:\n",
    "        sentiment_results.append('No Data')  # Handle empty or non-string entries\n",
    "        sentiment_dict[idx] = {'positive': 0.0, 'negative': 0.0, 'neutral': 0.0, 'compound': 0.0}"
   ],
   "id": "c26578fee4f5e688",
   "outputs": []
  },
  {
   "metadata": {},
   "cell_type": "code",
   "execution_count": null,
   "source": [
    "# Add new column to DataFrame\n",
    "df['Sentiment'] = sentiment_results\n",
    "\n",
    "# Save the updated DataFrame to a new Excel file\n",
    "output_file_path = 'output_with_sentiment.xlsx'  # Replace with your desired output file path\n",
    "df.to_excel(output_file_path, index=False)\n",
    "\n",
    "print(f\"Sentiment analysis complete. Results saved to '{output_file_path}'.\")"
   ],
   "id": "e0f91e2cc8bc1ca9",
   "outputs": []
  },
  {
   "metadata": {},
   "cell_type": "code",
   "execution_count": null,
   "source": "",
   "id": "dab09285133cd55d",
   "outputs": []
  }
 ],
 "metadata": {
  "kernelspec": {
   "display_name": "Python 3",
   "language": "python",
   "name": "python3"
  },
  "language_info": {
   "codemirror_mode": {
    "name": "ipython",
    "version": 2
   },
   "file_extension": ".py",
   "mimetype": "text/x-python",
   "name": "python",
   "nbconvert_exporter": "python",
   "pygments_lexer": "ipython2",
   "version": "2.7.6"
  }
 },
 "nbformat": 4,
 "nbformat_minor": 5
}
